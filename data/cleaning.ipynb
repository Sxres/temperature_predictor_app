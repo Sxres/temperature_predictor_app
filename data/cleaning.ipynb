{
 "cells": [
  {
   "cell_type": "code",
   "execution_count": 49,
   "metadata": {},
   "outputs": [],
   "source": [
    "import pandas as pd\n",
    "import os  \n",
    "import matplotlib.pyplot as plt"
   ]
  },
  {
   "cell_type": "code",
   "execution_count": 18,
   "metadata": {},
   "outputs": [],
   "source": [
    "folder_path = r'C:\\Users\\Dragos\\OneDrive\\Documents\\python\\weather_predictor_app\\data'"
   ]
  },
  {
   "cell_type": "code",
   "execution_count": 20,
   "metadata": {},
   "outputs": [],
   "source": [
    "columns_to_keep = [\"Longitude (x)\", \"Latitude (y)\", \"Year\", \"Month\", \"Day\", \"Max Temp (°C)\", \"Min Temp (°C)\", \"Mean Temp (°C)\", \"Heat Deg Days (°C)\", \"Cool Deg Days (°C)\"]"
   ]
  },
  {
   "cell_type": "code",
   "execution_count": 21,
   "metadata": {},
   "outputs": [],
   "source": [
    "cleaned_ds = []"
   ]
  },
  {
   "cell_type": "code",
   "execution_count": 24,
   "metadata": {},
   "outputs": [],
   "source": [
    "#loop through all csv files in the folder\n",
    "for filename in os.listdir(folder_path):\n",
    "    if filename.endswith(\".csv\"):\n",
    "        file_path = os.path.join(folder_path, filename)\n",
    "        ds = pd.read_csv(file_path)\n",
    "        #keep only the columns we need\n",
    "        ds_cleaned = ds[columns_to_keep]\n",
    "        #append the cleaned dataset to the list\n",
    "        cleaned_ds.append(ds_cleaned)\n",
    "\n",
    "#combine all clean datasets into one\n",
    "combined_ds = pd.concat(cleaned_ds, ignore_index=True)\n",
    "\n",
    "combined_ds.to_csv(os.path.join(folder_path, \"combined_data.csv\"), index=False)\n"
   ]
  },
  {
   "cell_type": "code",
   "execution_count": 25,
   "metadata": {},
   "outputs": [],
   "source": [
    "data = pd.read_csv(r\"C:\\Users\\Dragos\\OneDrive\\Documents\\python\\weather_predictor_app\\data\\combined_data.csv\")"
   ]
  },
  {
   "cell_type": "code",
   "execution_count": 26,
   "metadata": {},
   "outputs": [
    {
     "data": {
      "text/html": [
       "<div>\n",
       "<style scoped>\n",
       "    .dataframe tbody tr th:only-of-type {\n",
       "        vertical-align: middle;\n",
       "    }\n",
       "\n",
       "    .dataframe tbody tr th {\n",
       "        vertical-align: top;\n",
       "    }\n",
       "\n",
       "    .dataframe thead th {\n",
       "        text-align: right;\n",
       "    }\n",
       "</style>\n",
       "<table border=\"1\" class=\"dataframe\">\n",
       "  <thead>\n",
       "    <tr style=\"text-align: right;\">\n",
       "      <th></th>\n",
       "      <th>Longitude (x)</th>\n",
       "      <th>Latitude (y)</th>\n",
       "      <th>Year</th>\n",
       "      <th>Month</th>\n",
       "      <th>Day</th>\n",
       "      <th>Max Temp (°C)</th>\n",
       "      <th>Min Temp (°C)</th>\n",
       "      <th>Mean Temp (°C)</th>\n",
       "      <th>Heat Deg Days (°C)</th>\n",
       "      <th>Cool Deg Days (°C)</th>\n",
       "    </tr>\n",
       "  </thead>\n",
       "  <tbody>\n",
       "    <tr>\n",
       "      <th>0</th>\n",
       "      <td>-78.88</td>\n",
       "      <td>43.92</td>\n",
       "      <td>2019</td>\n",
       "      <td>1</td>\n",
       "      <td>1</td>\n",
       "      <td>4.9</td>\n",
       "      <td>-8.4</td>\n",
       "      <td>-1.8</td>\n",
       "      <td>19.8</td>\n",
       "      <td>0.0</td>\n",
       "    </tr>\n",
       "    <tr>\n",
       "      <th>1</th>\n",
       "      <td>-78.88</td>\n",
       "      <td>43.92</td>\n",
       "      <td>2019</td>\n",
       "      <td>1</td>\n",
       "      <td>2</td>\n",
       "      <td>-2.7</td>\n",
       "      <td>-12.2</td>\n",
       "      <td>-7.5</td>\n",
       "      <td>25.5</td>\n",
       "      <td>0.0</td>\n",
       "    </tr>\n",
       "    <tr>\n",
       "      <th>2</th>\n",
       "      <td>-78.88</td>\n",
       "      <td>43.92</td>\n",
       "      <td>2019</td>\n",
       "      <td>1</td>\n",
       "      <td>3</td>\n",
       "      <td>1.0</td>\n",
       "      <td>-4.8</td>\n",
       "      <td>-1.9</td>\n",
       "      <td>19.9</td>\n",
       "      <td>0.0</td>\n",
       "    </tr>\n",
       "    <tr>\n",
       "      <th>3</th>\n",
       "      <td>-78.88</td>\n",
       "      <td>43.92</td>\n",
       "      <td>2019</td>\n",
       "      <td>1</td>\n",
       "      <td>4</td>\n",
       "      <td>6.1</td>\n",
       "      <td>-3.4</td>\n",
       "      <td>1.4</td>\n",
       "      <td>16.6</td>\n",
       "      <td>0.0</td>\n",
       "    </tr>\n",
       "    <tr>\n",
       "      <th>4</th>\n",
       "      <td>-78.88</td>\n",
       "      <td>43.92</td>\n",
       "      <td>2019</td>\n",
       "      <td>1</td>\n",
       "      <td>5</td>\n",
       "      <td>2.6</td>\n",
       "      <td>-4.4</td>\n",
       "      <td>-0.9</td>\n",
       "      <td>18.9</td>\n",
       "      <td>0.0</td>\n",
       "    </tr>\n",
       "  </tbody>\n",
       "</table>\n",
       "</div>"
      ],
      "text/plain": [
       "   Longitude (x)  Latitude (y)  Year  Month  Day  Max Temp (°C)  \\\n",
       "0         -78.88         43.92  2019      1    1            4.9   \n",
       "1         -78.88         43.92  2019      1    2           -2.7   \n",
       "2         -78.88         43.92  2019      1    3            1.0   \n",
       "3         -78.88         43.92  2019      1    4            6.1   \n",
       "4         -78.88         43.92  2019      1    5            2.6   \n",
       "\n",
       "   Min Temp (°C)  Mean Temp (°C)  Heat Deg Days (°C)  Cool Deg Days (°C)  \n",
       "0           -8.4            -1.8                19.8                 0.0  \n",
       "1          -12.2            -7.5                25.5                 0.0  \n",
       "2           -4.8            -1.9                19.9                 0.0  \n",
       "3           -3.4             1.4                16.6                 0.0  \n",
       "4           -4.4            -0.9                18.9                 0.0  "
      ]
     },
     "execution_count": 26,
     "metadata": {},
     "output_type": "execute_result"
    }
   ],
   "source": [
    "data.head()"
   ]
  },
  {
   "cell_type": "code",
   "execution_count": 28,
   "metadata": {},
   "outputs": [
    {
     "data": {
      "text/html": [
       "<div>\n",
       "<style scoped>\n",
       "    .dataframe tbody tr th:only-of-type {\n",
       "        vertical-align: middle;\n",
       "    }\n",
       "\n",
       "    .dataframe tbody tr th {\n",
       "        vertical-align: top;\n",
       "    }\n",
       "\n",
       "    .dataframe thead th {\n",
       "        text-align: right;\n",
       "    }\n",
       "</style>\n",
       "<table border=\"1\" class=\"dataframe\">\n",
       "  <thead>\n",
       "    <tr style=\"text-align: right;\">\n",
       "      <th></th>\n",
       "      <th>Longitude (x)</th>\n",
       "      <th>Latitude (y)</th>\n",
       "      <th>Year</th>\n",
       "      <th>Month</th>\n",
       "      <th>Day</th>\n",
       "      <th>Max Temp (°C)</th>\n",
       "      <th>Min Temp (°C)</th>\n",
       "      <th>Mean Temp (°C)</th>\n",
       "      <th>Heat Deg Days (°C)</th>\n",
       "      <th>Cool Deg Days (°C)</th>\n",
       "    </tr>\n",
       "  </thead>\n",
       "  <tbody>\n",
       "    <tr>\n",
       "      <th>count</th>\n",
       "      <td>2.192000e+03</td>\n",
       "      <td>2.192000e+03</td>\n",
       "      <td>2192.000000</td>\n",
       "      <td>2192.000000</td>\n",
       "      <td>2192.000000</td>\n",
       "      <td>2167.000000</td>\n",
       "      <td>2167.000000</td>\n",
       "      <td>2167.000000</td>\n",
       "      <td>2167.000000</td>\n",
       "      <td>2167.000000</td>\n",
       "    </tr>\n",
       "    <tr>\n",
       "      <th>mean</th>\n",
       "      <td>-7.888000e+01</td>\n",
       "      <td>4.392000e+01</td>\n",
       "      <td>2021.500456</td>\n",
       "      <td>6.521898</td>\n",
       "      <td>15.732664</td>\n",
       "      <td>13.346054</td>\n",
       "      <td>3.426719</td>\n",
       "      <td>8.399354</td>\n",
       "      <td>10.337517</td>\n",
       "      <td>0.736871</td>\n",
       "    </tr>\n",
       "    <tr>\n",
       "      <th>std</th>\n",
       "      <td>1.421410e-14</td>\n",
       "      <td>7.107049e-15</td>\n",
       "      <td>1.708571</td>\n",
       "      <td>3.449773</td>\n",
       "      <td>8.803378</td>\n",
       "      <td>10.662016</td>\n",
       "      <td>9.795649</td>\n",
       "      <td>10.075964</td>\n",
       "      <td>9.136596</td>\n",
       "      <td>1.675052</td>\n",
       "    </tr>\n",
       "    <tr>\n",
       "      <th>min</th>\n",
       "      <td>-7.888000e+01</td>\n",
       "      <td>4.392000e+01</td>\n",
       "      <td>2019.000000</td>\n",
       "      <td>1.000000</td>\n",
       "      <td>1.000000</td>\n",
       "      <td>-15.800000</td>\n",
       "      <td>-27.800000</td>\n",
       "      <td>-20.100000</td>\n",
       "      <td>0.000000</td>\n",
       "      <td>0.000000</td>\n",
       "    </tr>\n",
       "    <tr>\n",
       "      <th>25%</th>\n",
       "      <td>-7.888000e+01</td>\n",
       "      <td>4.392000e+01</td>\n",
       "      <td>2020.000000</td>\n",
       "      <td>4.000000</td>\n",
       "      <td>8.000000</td>\n",
       "      <td>4.200000</td>\n",
       "      <td>-3.400000</td>\n",
       "      <td>0.550000</td>\n",
       "      <td>0.400000</td>\n",
       "      <td>0.000000</td>\n",
       "    </tr>\n",
       "    <tr>\n",
       "      <th>50%</th>\n",
       "      <td>-7.888000e+01</td>\n",
       "      <td>4.392000e+01</td>\n",
       "      <td>2021.500000</td>\n",
       "      <td>7.000000</td>\n",
       "      <td>16.000000</td>\n",
       "      <td>13.500000</td>\n",
       "      <td>3.200000</td>\n",
       "      <td>8.100000</td>\n",
       "      <td>9.900000</td>\n",
       "      <td>0.000000</td>\n",
       "    </tr>\n",
       "    <tr>\n",
       "      <th>75%</th>\n",
       "      <td>-7.888000e+01</td>\n",
       "      <td>4.392000e+01</td>\n",
       "      <td>2023.000000</td>\n",
       "      <td>10.000000</td>\n",
       "      <td>23.000000</td>\n",
       "      <td>23.200000</td>\n",
       "      <td>12.000000</td>\n",
       "      <td>17.600000</td>\n",
       "      <td>17.450000</td>\n",
       "      <td>0.000000</td>\n",
       "    </tr>\n",
       "    <tr>\n",
       "      <th>max</th>\n",
       "      <td>-7.888000e+01</td>\n",
       "      <td>4.392000e+01</td>\n",
       "      <td>2024.000000</td>\n",
       "      <td>12.000000</td>\n",
       "      <td>31.000000</td>\n",
       "      <td>34.500000</td>\n",
       "      <td>22.600000</td>\n",
       "      <td>27.900000</td>\n",
       "      <td>38.100000</td>\n",
       "      <td>9.900000</td>\n",
       "    </tr>\n",
       "  </tbody>\n",
       "</table>\n",
       "</div>"
      ],
      "text/plain": [
       "       Longitude (x)  Latitude (y)         Year        Month          Day  \\\n",
       "count   2.192000e+03  2.192000e+03  2192.000000  2192.000000  2192.000000   \n",
       "mean   -7.888000e+01  4.392000e+01  2021.500456     6.521898    15.732664   \n",
       "std     1.421410e-14  7.107049e-15     1.708571     3.449773     8.803378   \n",
       "min    -7.888000e+01  4.392000e+01  2019.000000     1.000000     1.000000   \n",
       "25%    -7.888000e+01  4.392000e+01  2020.000000     4.000000     8.000000   \n",
       "50%    -7.888000e+01  4.392000e+01  2021.500000     7.000000    16.000000   \n",
       "75%    -7.888000e+01  4.392000e+01  2023.000000    10.000000    23.000000   \n",
       "max    -7.888000e+01  4.392000e+01  2024.000000    12.000000    31.000000   \n",
       "\n",
       "       Max Temp (°C)  Min Temp (°C)  Mean Temp (°C)  Heat Deg Days (°C)  \\\n",
       "count    2167.000000    2167.000000     2167.000000         2167.000000   \n",
       "mean       13.346054       3.426719        8.399354           10.337517   \n",
       "std        10.662016       9.795649       10.075964            9.136596   \n",
       "min       -15.800000     -27.800000      -20.100000            0.000000   \n",
       "25%         4.200000      -3.400000        0.550000            0.400000   \n",
       "50%        13.500000       3.200000        8.100000            9.900000   \n",
       "75%        23.200000      12.000000       17.600000           17.450000   \n",
       "max        34.500000      22.600000       27.900000           38.100000   \n",
       "\n",
       "       Cool Deg Days (°C)  \n",
       "count         2167.000000  \n",
       "mean             0.736871  \n",
       "std              1.675052  \n",
       "min              0.000000  \n",
       "25%              0.000000  \n",
       "50%              0.000000  \n",
       "75%              0.000000  \n",
       "max              9.900000  "
      ]
     },
     "execution_count": 28,
     "metadata": {},
     "output_type": "execute_result"
    }
   ],
   "source": [
    "data.describe()"
   ]
  },
  {
   "cell_type": "code",
   "execution_count": 29,
   "metadata": {},
   "outputs": [
    {
     "data": {
      "text/plain": [
       "Longitude (x)          0\n",
       "Latitude (y)           0\n",
       "Year                   0\n",
       "Month                  0\n",
       "Day                    0\n",
       "Max Temp (°C)         25\n",
       "Min Temp (°C)         25\n",
       "Mean Temp (°C)        25\n",
       "Heat Deg Days (°C)    25\n",
       "Cool Deg Days (°C)    25\n",
       "dtype: int64"
      ]
     },
     "execution_count": 29,
     "metadata": {},
     "output_type": "execute_result"
    }
   ],
   "source": [
    "data.isnull().sum()"
   ]
  },
  {
   "cell_type": "code",
   "execution_count": 30,
   "metadata": {},
   "outputs": [
    {
     "data": {
      "text/plain": [
       "Longitude (x)         float64\n",
       "Latitude (y)          float64\n",
       "Year                    int64\n",
       "Month                   int64\n",
       "Day                     int64\n",
       "Max Temp (°C)         float64\n",
       "Min Temp (°C)         float64\n",
       "Mean Temp (°C)        float64\n",
       "Heat Deg Days (°C)    float64\n",
       "Cool Deg Days (°C)    float64\n",
       "dtype: object"
      ]
     },
     "execution_count": 30,
     "metadata": {},
     "output_type": "execute_result"
    }
   ],
   "source": [
    "data.dtypes"
   ]
  },
  {
   "cell_type": "code",
   "execution_count": 31,
   "metadata": {},
   "outputs": [
    {
     "data": {
      "text/plain": [
       "0"
      ]
     },
     "execution_count": 31,
     "metadata": {},
     "output_type": "execute_result"
    }
   ],
   "source": [
    "data.duplicated().sum()"
   ]
  },
  {
   "cell_type": "code",
   "execution_count": null,
   "metadata": {},
   "outputs": [],
   "source": [
    "#data.fillna(data.mean(), inplace=True) don't touch \n",
    "#data.to_csv(os.path.join(folder_path, \"combined_data.csv\"), index=False)"
   ]
  },
  {
   "cell_type": "code",
   "execution_count": 71,
   "metadata": {},
   "outputs": [
    {
     "data": {
      "text/plain": [
       "Longitude (x)         0\n",
       "Latitude (y)          0\n",
       "Year                  0\n",
       "Month                 0\n",
       "Day                   0\n",
       "Max Temp (°C)         0\n",
       "Min Temp (°C)         0\n",
       "Mean Temp (°C)        0\n",
       "Heat Deg Days (°C)    0\n",
       "Cool Deg Days (°C)    0\n",
       "dtype: int64"
      ]
     },
     "execution_count": 71,
     "metadata": {},
     "output_type": "execute_result"
    }
   ],
   "source": [
    "data.isnull().sum()"
   ]
  },
  {
   "cell_type": "code",
   "execution_count": 48,
   "metadata": {},
   "outputs": [
    {
     "data": {
      "text/plain": [
       "<Axes: xlabel='Month', ylabel='Mean Temp (°C)'>"
      ]
     },
     "execution_count": 48,
     "metadata": {},
     "output_type": "execute_result"
    },
    {
     "data": {
      "image/png": "[encoded data removed]",
      "text/plain": [
       "<Figure size 640x480 with 1 Axes>"
      ]
     },
     "metadata": {},
     "output_type": "display_data"
    }
   ],
   "source": [
    "data.plot(x='Month', y='Mean Temp (°C)', kind='scatter')"
   ]
  },
  {
   "cell_type": "code",
   "execution_count": null,
   "metadata": {},
   "outputs": [],
   "source": []
  }
 ],
 "metadata": {
  "kernelspec": {
   "display_name": "Python 3",
   "language": "python",
   "name": "python3"
  },
  "language_info": {
   "codemirror_mode": {
    "name": "ipython",
    "version": 3
   },
   "file_extension": ".py",
   "mimetype": "text/x-python",
   "name": "python",
   "nbconvert_exporter": "python",
   "pygments_lexer": "ipython3",
   "version": "3.11.5"
  }
 },
 "nbformat": 4,
 "nbformat_minor": 2
}
